{
 "cells": [
  {
   "cell_type": "markdown",
   "id": "8c074e2a-9fce-40c0-bd35-7ebfcc9326de",
   "metadata": {
    "tags": []
   },
   "source": [
    "## Set Up Environment"
   ]
  },
  {
   "cell_type": "code",
   "execution_count": 2,
   "id": "55951c28-84b2-47cb-a032-4fd5fbf32d24",
   "metadata": {
    "tags": []
   },
   "outputs": [],
   "source": [
    "import os\n",
    "import gymnasium\n",
    "from stable_baselines3 import PPO\n",
    "from stable_baselines3.common.vec_env import DummyVecEnv\n",
    "from stable_baselines3.common.evaluation import evaluate_policy"
   ]
  },
  {
   "cell_type": "code",
   "execution_count": 3,
   "id": "05945514-632b-4027-b1d6-c777f781c251",
   "metadata": {
    "tags": []
   },
   "outputs": [],
   "source": [
    "# create env\n",
    "env = gymnasium.make('CarRacing-v2', render_mode = 'human').env\n",
    "env = DummyVecEnv([lambda: env])\n",
    "# state and action dimensions\n",
    "state_dim = env.observation_space.shape\n",
    "action_dim = env.action_space.shape[0]"
   ]
  },
  {
   "cell_type": "code",
   "execution_count": 8,
   "id": "54b3c10d",
   "metadata": {},
   "outputs": [
    {
     "data": {
      "text/plain": [
       "Box([-1.  0.  0.], 1.0, (3,), float32)"
      ]
     },
     "execution_count": 8,
     "metadata": {},
     "output_type": "execute_result"
    }
   ],
   "source": [
    "env.action_space"
   ]
  },
  {
   "cell_type": "markdown",
   "id": "3252b3fc-2a4d-4987-9353-440e442ed3cf",
   "metadata": {
    "tags": []
   },
   "source": [
    "## Build Model"
   ]
  },
  {
   "cell_type": "code",
   "execution_count": 4,
   "id": "a976759c",
   "metadata": {},
   "outputs": [
    {
     "name": "stdout",
     "output_type": "stream",
     "text": [
      "Using cpu device\n",
      "Wrapping the env in a VecTransposeImage.\n"
     ]
    }
   ],
   "source": [
    "model = PPO('CnnPolicy', env, verbose=1)"
   ]
  },
  {
   "cell_type": "code",
   "execution_count": 5,
   "id": "ca2463f5",
   "metadata": {
    "scrolled": true
   },
   "outputs": [
    {
     "name": "stdout",
     "output_type": "stream",
     "text": [
      "-----------------------------\n",
      "| time/              |      |\n",
      "|    fps             | 17   |\n",
      "|    iterations      | 1    |\n",
      "|    time_elapsed    | 119  |\n",
      "|    total_timesteps | 2048 |\n",
      "-----------------------------\n",
      "------------------------------------------\n",
      "| time/                   |              |\n",
      "|    fps                  | 14           |\n",
      "|    iterations           | 2            |\n",
      "|    time_elapsed         | 285          |\n",
      "|    total_timesteps      | 4096         |\n",
      "| train/                  |              |\n",
      "|    approx_kl            | 0.0071460307 |\n",
      "|    clip_fraction        | 0.0794       |\n",
      "|    clip_range           | 0.2          |\n",
      "|    entropy_loss         | -4.23        |\n",
      "|    explained_variance   | 0.0253       |\n",
      "|    learning_rate        | 0.0003       |\n",
      "|    loss                 | 0.0925       |\n",
      "|    n_updates            | 10           |\n",
      "|    policy_gradient_loss | -0.00769     |\n",
      "|    std                  | 0.985        |\n",
      "|    value_loss           | 0.463        |\n",
      "------------------------------------------\n",
      "----------------------------------------\n",
      "| time/                   |            |\n",
      "|    fps                  | 13         |\n",
      "|    iterations           | 3          |\n",
      "|    time_elapsed         | 456        |\n",
      "|    total_timesteps      | 6144       |\n",
      "| train/                  |            |\n",
      "|    approx_kl            | 0.01048078 |\n",
      "|    clip_fraction        | 0.138      |\n",
      "|    clip_range           | 0.2        |\n",
      "|    entropy_loss         | -4.19      |\n",
      "|    explained_variance   | -0.203     |\n",
      "|    learning_rate        | 0.0003     |\n",
      "|    loss                 | -0.00565   |\n",
      "|    n_updates            | 20         |\n",
      "|    policy_gradient_loss | -0.00817   |\n",
      "|    std                  | 0.973      |\n",
      "|    value_loss           | 0.0443     |\n",
      "----------------------------------------\n"
     ]
    },
    {
     "data": {
      "text/plain": [
       "<stable_baselines3.ppo.ppo.PPO at 0x2b3212aa850>"
      ]
     },
     "execution_count": 5,
     "metadata": {},
     "output_type": "execute_result"
    }
   ],
   "source": [
    "model.learn(total_timesteps=5000)"
   ]
  },
  {
   "cell_type": "code",
   "execution_count": 37,
   "id": "a2115b14",
   "metadata": {},
   "outputs": [],
   "source": [
    "env.close()"
   ]
  },
  {
   "cell_type": "markdown",
   "id": "bb7c9f7d-8157-43d5-84bc-d74c5530f5df",
   "metadata": {},
   "source": [
    "## Play Games"
   ]
  },
  {
   "cell_type": "code",
   "execution_count": 14,
   "id": "a1c45400",
   "metadata": {},
   "outputs": [
    {
     "name": "stderr",
     "output_type": "stream",
     "text": [
      "\n",
      "KeyboardInterrupt\n",
      "\n"
     ]
    }
   ],
   "source": [
    "evaluate_policy(model, env, n_eval_episodes=10, render=True)"
   ]
  },
  {
   "cell_type": "code",
   "execution_count": 39,
   "id": "dbed2ae5-3738-43db-be98-19ceb9256932",
   "metadata": {
    "tags": []
   },
   "outputs": [
    {
     "name": "stdout",
     "output_type": "stream",
     "text": [
      "Timeout\n",
      "Total score: [-68.453674]\n"
     ]
    }
   ],
   "source": [
    "state = env.reset()\n",
    "# 1 game, 100 actions\n",
    "score = 0\n",
    "for _ in range(1000):\n",
    "    env.render()\n",
    "    # get action to take\n",
    "    action, _states = model.predict(state)\n",
    "    # take action\n",
    "    # get: new state, reward gained after action, if done (died, won, etc), _\n",
    "    state, reward, done, info, = env.step(action)\n",
    "    # new score\n",
    "    score += reward\n",
    "    \n",
    "    # died/out of bounds/too much time/won\n",
    "    if done:\n",
    "        # end\n",
    "        exit\n",
    "else:\n",
    "    # didn't win/die before 100 loops\n",
    "    print(\"Timeout\")\n",
    "\n",
    "#final state and info\n",
    "print(\"Total score:\", score)\n",
    "\n",
    "# close when done\n",
    "env.close()"
   ]
  },
  {
   "cell_type": "code",
   "execution_count": null,
   "id": "4cbd6f21",
   "metadata": {},
   "outputs": [],
   "source": []
  }
 ],
 "metadata": {
  "kernelspec": {
   "display_name": "Python 3 (ipykernel)",
   "language": "python",
   "name": "python3"
  },
  "language_info": {
   "codemirror_mode": {
    "name": "ipython",
    "version": 3
   },
   "file_extension": ".py",
   "mimetype": "text/x-python",
   "name": "python",
   "nbconvert_exporter": "python",
   "pygments_lexer": "ipython3",
   "version": "3.11.4"
  }
 },
 "nbformat": 4,
 "nbformat_minor": 5
}
